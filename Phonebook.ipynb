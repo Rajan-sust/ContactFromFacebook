{
 "cells": [
  {
   "cell_type": "code",
   "execution_count": 33,
   "metadata": {},
   "outputs": [],
   "source": [
    "import json"
   ]
  },
  {
   "cell_type": "code",
   "execution_count": 97,
   "metadata": {},
   "outputs": [],
   "source": [
    "with open('your_address_books.json') as file:\n",
    "    #print(file.read())\n",
    "    address_book = json.loads(file.read())\n",
    "    parent_phone_book = address_book[\"address_book\"]\n",
    "    phone_book = parent_phone_book[\"address_book\"]\n",
    "    #print(type(phone_book))\n",
    "    \n",
    "    \n",
    "    my_phone_book_name = []\n",
    "    my_phone_book_number = []\n",
    "    \n",
    "    for data in phone_book:\n",
    "        try:\n",
    "            details = data[\"details\"][0]\n",
    "            name = data[\"name\"]\n",
    "            phone_number = details[\"contact_point\"]\n",
    "            \n",
    "            #print(\"{} {}\".format(name,phone_number))\n",
    "            #my_phone_book_number.append(phone_number)\n",
    "            #print(\"\".join(name.tolower()))\n",
    "            \n",
    "            my_phone_book_number.append(phone_number)\n",
    "            my_phone_book_name.append(name.lower())\n",
    "            \n",
    "        except:\n",
    "            pass\n",
    "        \n",
    "    \n",
    "    name_number_pair = list(set(zip(my_phone_book_name,my_phone_book_number)))\n",
    "    name_number_pair.sort()\n",
    "    #print(name_number_pair)\n",
    "    with open(\"my_phonebook\",\"w\") as f:\n",
    "        \n",
    "        \n",
    "        for a,b in name_number_pair:\n",
    "            f.write(\"{} {}\\n\".format(a,b))\n",
    "    #print(my_phone_book)\n",
    "        \n",
    "        \n",
    "    \n",
    "    \n"
   ]
  },
  {
   "cell_type": "code",
   "execution_count": null,
   "metadata": {},
   "outputs": [],
   "source": []
  }
 ],
 "metadata": {
  "kernelspec": {
   "display_name": "Python 3",
   "language": "python",
   "name": "python3"
  },
  "language_info": {
   "codemirror_mode": {
    "name": "ipython",
    "version": 3
   },
   "file_extension": ".py",
   "mimetype": "text/x-python",
   "name": "python",
   "nbconvert_exporter": "python",
   "pygments_lexer": "ipython3",
   "version": "3.6.7"
  }
 },
 "nbformat": 4,
 "nbformat_minor": 2
}
